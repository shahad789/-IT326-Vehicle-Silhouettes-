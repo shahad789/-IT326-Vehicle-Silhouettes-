{
 "cells": [
  {
   "cell_type": "markdown",
   "id": "de3fc865",
   "metadata": {},
   "source": [
    "<h1><pre>                   Vehicle Silhouettes</pre></h1>\n",
    "<h2>Goal of collecting this dataset:</h2>\n",
    "The goal of collecting this dataset is to determine the category of a given vehicle silhouette among three types (car, van, bus) by utilizing a set of extracted silhouette-based features.\n",
    "\n",
    "<h2>Classification:</h2>\n",
    "The classification of vehicle silhouettes involves the utilization of a set of distinctive attributes extracted from these silhouettes. The primary objective is to categorize these silhouettes into one of three predefined classes: cars, vans, or buses.\n",
    "\n",
    "<h2>Defect prediction:</h2>\n",
    "Defect prediction in a dataset of vehicle silhouettes involves spotting potential issues or irregularities within these silhouette images. This process may encompass the detection of inconsistencies or abnormalities in the silhouettes, including the presence of missing data points, which can be problematic. Leveraging data mining techniques, defect prediction enhances the dataset's overall quality and dependability, ensuring it faithfully reflects the desired information. This, in turn, reduces the risk of producing inaccurate or deceptive outcomes when the dataset is applied in subsequent tasks and applications, such as object recognition and classification.\n",
    "\n",
    "<h4>Link Of dataset:</h4>\n",
    "<a href=https://www.kaggle.com/datasets/pritech/vehicle-silhouettes/data><link of dataset</a>\n",
    "\n",
    "$Number of attribute:\n",
    "19\n",
    "#Number of objects:\n",
    "847"
   ]
  },
  {
   "cell_type": "code",
   "execution_count": 5,
   "id": "b5a352f5",
   "metadata": {},
   "outputs": [
    {
     "name": "stderr",
     "output_type": "stream",
     "text": [
      "Warning message in file(file, \"rt\"):\n",
      "\"cannot open file '/kaggle/input/vehicle-silhouettes/vehicle.csv': No such file or directory\""
     ]
    },
    {
     "ename": "ERROR",
     "evalue": "Error in file(file, \"rt\"): cannot open the connection\n",
     "output_type": "error",
     "traceback": [
      "Error in file(file, \"rt\"): cannot open the connection\nTraceback:\n",
      "1. read.csv(\"/kaggle/input/vehicle-silhouettes/vehicle.csv\")",
      "2. read.table(file = file, header = header, sep = sep, quote = quote, \n .     dec = dec, fill = fill, comment.char = comment.char, ...)",
      "3. file(file, \"rt\")"
     ]
    }
   ],
   "source": [
    "dataset<-read.csv('/kaggle/input/vehicle-silhouettes/vehicle.csv')"
   ]
  },
  {
   "cell_type": "code",
   "execution_count": null,
   "id": "e3d4f90b",
   "metadata": {},
   "outputs": [],
   "source": []
  }
 ],
 "metadata": {
  "kernelspec": {
   "display_name": "R",
   "language": "R",
   "name": "ir"
  },
  "language_info": {
   "codemirror_mode": "r",
   "file_extension": ".r",
   "mimetype": "text/x-r-source",
   "name": "R",
   "pygments_lexer": "r",
   "version": "3.6.1"
  }
 },
 "nbformat": 4,
 "nbformat_minor": 5
}
